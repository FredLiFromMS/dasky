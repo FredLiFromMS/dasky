{
 "cells": [
  {
   "cell_type": "code",
   "execution_count": null,
   "metadata": {},
   "outputs": [],
   "source": [
    "import os\n",
    "import dask\n",
    "from dask.distributed import Client\n",
    "from azureml.core import Run"
   ]
  },
  {
   "cell_type": "code",
   "execution_count": null,
   "metadata": {},
   "outputs": [],
   "source": [
    "def update_packages():\n",
    "    os.system('pip install --upgrade fsspec adlfs')"
   ]
  },
  {
   "cell_type": "code",
   "execution_count": null,
   "metadata": {},
   "outputs": [],
   "source": [
    "computes = [dask.delayed(update_packages)() for i in range(16)]\n",
    "computes;"
   ]
  },
  {
   "cell_type": "code",
   "execution_count": null,
   "metadata": {},
   "outputs": [],
   "source": [
    "run = Run.get_context()\n",
    "run\n",
    "\n",
    "from dask_cuda import LocalCUDACluster\n",
    "cluster = LocalCUDACluster()\n",
    "\n",
    "c = Client(cluster)\n",
    "c.compute(computes)"
   ]
  },
  {
   "cell_type": "code",
   "execution_count": 3,
   "metadata": {},
   "outputs": [],
   "source": [
    "import os\n",
    "import dask\n",
    "import time\n",
    "import adlfs\n",
    "import joblib\n",
    "import fsspec\n",
    "import socket\n",
    "import matplotlib\n",
    "\n",
    "import pandas as pd\n",
    "import dask.dataframe as dd\n",
    "import matplotlib.pyplot as plt\n",
    "\n",
    "from datetime import datetime, timedelta\n",
    "from dask.distributed import Client\n",
    "from IPython.core.display import HTML\n",
    "from dask_ml.xgboost import XGBRegressor\n",
    "\n",
    "from azureml.core import Run\n",
    "\n",
    "%matplotlib inline"
   ]
  },
  {
   "cell_type": "code",
   "execution_count": 4,
   "metadata": {},
   "outputs": [
    {
     "data": {
      "text/html": [
       "<table style=\"width:100%\"><tr><th>Experiment</th><th>Id</th><th>Type</th><th>Status</th><th>Details Page</th><th>Docs Page</th></tr><tr><td>dask-dask-demo</td><td>dask-dask-demo_1579762226_e5a99500</td><td>azureml.scriptrun</td><td>Running</td><td><a href=\"https://ml.azure.com/experiments/dask-dask-demo/runs/dask-dask-demo_1579762226_e5a99500?wsid=/subscriptions/6560575d-fa06-4e7d-95fb-f962e74efd7a/resourcegroups/copeters-rg/workspaces/dask-azureml\" target=\"_blank\" rel=\"noopener\">Link to Azure Machine Learning studio</a></td><td><a href=\"https://docs.microsoft.com/en-us/python/api/azureml-core/azureml.core.run._SubmittedRun?view=azure-ml-py\" target=\"_blank\" rel=\"noopener\">Link to Documentation</a></td></tr></table>"
      ],
      "text/plain": [
       "Run(Experiment: dask-dask-demo,\n",
       "Id: dask-dask-demo_1579762226_e5a99500,\n",
       "Type: azureml.scriptrun,\n",
       "Status: Running)"
      ]
     },
     "execution_count": 4,
     "metadata": {},
     "output_type": "execute_result"
    }
   ],
   "source": [
    "run = Run.get_context()\n",
    "run"
   ]
  },
  {
   "cell_type": "code",
   "execution_count": 5,
   "metadata": {},
   "outputs": [],
   "source": [
    "from dask_cuda import LocalCUDACluster"
   ]
  },
  {
   "cell_type": "code",
   "execution_count": 18,
   "metadata": {},
   "outputs": [
    {
     "name": "stderr",
     "output_type": "stream",
     "text": [
      "/opt/conda/envs/rapids/lib/python3.6/site-packages/distributed/dashboard/core.py:72: UserWarning: \n",
      "Port 8787 is already in use. \n",
      "Perhaps you already have a cluster running?\n",
      "Hosting the diagnostics dashboard on a random port instead.\n",
      "  warnings.warn(\"\\n\" + msg)\n"
     ]
    }
   ],
   "source": [
    "cluster = LocalCUDACluster()"
   ]
  },
  {
   "cell_type": "code",
   "execution_count": 19,
   "metadata": {},
   "outputs": [
    {
     "name": "stdout",
     "output_type": "stream",
     "text": [
      "Help on method __init__ in module dask_cuda.local_cuda_cluster:\n",
      "\n",
      "__init__(n_workers=None, threads_per_worker=1, processes=True, memory_limit=None, device_memory_limit=None, CUDA_VISIBLE_DEVICES=None, data=None, local_directory=None, protocol=None, enable_tcp_over_ucx=False, enable_infiniband=False, enable_nvlink=False, ucx_net_devices=None, **kwargs) method of dask_cuda.local_cuda_cluster.LocalCUDACluster instance\n",
      "    Initialize self.  See help(type(self)) for accurate signature.\n",
      "\n"
     ]
    }
   ],
   "source": [
    "help(cluster.__init__)"
   ]
  },
  {
   "cell_type": "code",
   "execution_count": null,
   "metadata": {},
   "outputs": [],
   "source": []
  },
  {
   "cell_type": "code",
   "execution_count": 20,
   "metadata": {},
   "outputs": [
    {
     "data": {
      "text/html": [
       "<table style=\"border: 2px solid white;\">\n",
       "<tr>\n",
       "<td style=\"vertical-align: top; border: 0px solid white\">\n",
       "<h3 style=\"text-align: left;\">Client</h3>\n",
       "<ul style=\"text-align: left; list-style: none; margin: 0; padding: 0;\">\n",
       "  <li><b>Scheduler: </b>tcp://127.0.0.1:41927</li>\n",
       "  <li><b>Dashboard: </b><a href='http://127.0.0.1:38525/status' target='_blank'>http://127.0.0.1:38525/status</a>\n",
       "</ul>\n",
       "</td>\n",
       "<td style=\"vertical-align: top; border: 0px solid white\">\n",
       "<h3 style=\"text-align: left;\">Cluster</h3>\n",
       "<ul style=\"text-align: left; list-style:none; margin: 0; padding: 0;\">\n",
       "  <li><b>Workers: </b>4</li>\n",
       "  <li><b>Cores: </b>4</li>\n",
       "  <li><b>Memory: </b>473.40 GB</li>\n",
       "</ul>\n",
       "</td>\n",
       "</tr>\n",
       "</table>"
      ],
      "text/plain": [
       "<Client: 'tcp://127.0.0.1:41927' processes=4 threads=4, memory=473.40 GB>"
      ]
     },
     "execution_count": 20,
     "metadata": {},
     "output_type": "execute_result"
    }
   ],
   "source": [
    "c = Client(cluster)\n",
    "c"
   ]
  },
  {
   "cell_type": "code",
   "execution_count": 21,
   "metadata": {},
   "outputs": [],
   "source": [
    "STORAGE_OPTIONS = {\n",
    "    'account_name': run.experiment.workspace.datastores['gen2'].account_name,\n",
    "    'account_key' : run.experiment.workspace.datastores['gen2'].account_key\n",
    "}"
   ]
  },
  {
   "cell_type": "code",
   "execution_count": 22,
   "metadata": {},
   "outputs": [],
   "source": [
    "protocol   = 'abfs'\n",
    "filesystem = 'datasets'"
   ]
  },
  {
   "cell_type": "code",
   "execution_count": 23,
   "metadata": {},
   "outputs": [
    {
     "data": {
      "text/plain": [
       "'abfs://datasets'"
      ]
     },
     "execution_count": 23,
     "metadata": {},
     "output_type": "execute_result"
    }
   ],
   "source": [
    "data_path = f'{protocol}://{filesystem}'\n",
    "data_path"
   ]
  },
  {
   "cell_type": "code",
   "execution_count": 24,
   "metadata": {},
   "outputs": [],
   "source": [
    "#data_path = f'{run.get_metrics()[\"datastore\"]}'\n",
    "#data_path"
   ]
  },
  {
   "cell_type": "code",
   "execution_count": 25,
   "metadata": {},
   "outputs": [],
   "source": [
    "fs = fsspec.filesystem(protocol, **STORAGE_OPTIONS, container_name=filesystem)"
   ]
  },
  {
   "cell_type": "code",
   "execution_count": 26,
   "metadata": {},
   "outputs": [
    {
     "data": {
      "text/plain": [
       "['abfs://datasets/noaa/isd/year=2018/month=5/part-00066-tid-9138739344806125380-ef942066-1d58-49f9-8ecb-3329cbe6e57e-383761.c000.snappy.parquet',\n",
       " 'abfs://datasets/noaa/isd/year=2018/month=6/part-00049-tid-9138739344806125380-ef942066-1d58-49f9-8ecb-3329cbe6e57e-383744.c000.snappy.parquet',\n",
       " 'abfs://datasets/noaa/isd/year=2018/month=7/part-00107-tid-9138739344806125380-ef942066-1d58-49f9-8ecb-3329cbe6e57e-383859.c000.snappy.parquet',\n",
       " 'abfs://datasets/noaa/isd/year=2018/month=8/part-00103-tid-9138739344806125380-ef942066-1d58-49f9-8ecb-3329cbe6e57e-383807.c000.snappy.parquet',\n",
       " 'abfs://datasets/noaa/isd/year=2018/month=9/part-00089-tid-9138739344806125380-ef942066-1d58-49f9-8ecb-3329cbe6e57e-383784.c000.snappy.parquet']"
      ]
     },
     "execution_count": 26,
     "metadata": {},
     "output_type": "execute_result"
    }
   ],
   "source": [
    "files = []\n",
    "for file in fs.glob('noaa/isd/year=*/month=*'): # see https://github.com/dask/adlfs/issues/34\n",
    "    files += fs.ls(f'{file}/')\n",
    "files = [f'{data_path}/{file}' for file in files if '2019' not in file] # issue with 2019 data - fix wip \n",
    "files[-5:]"
   ]
  },
  {
   "cell_type": "code",
   "execution_count": null,
   "metadata": {},
   "outputs": [],
   "source": []
  },
  {
   "cell_type": "code",
   "execution_count": 27,
   "metadata": {},
   "outputs": [
    {
     "name": "stdout",
     "output_type": "stream",
     "text": [
      "CPU times: user 304 ms, sys: 62.7 ms, total: 366 ms\n",
      "Wall time: 5.57 s\n"
     ]
    },
    {
     "data": {
      "text/html": [
       "<div>\n",
       "<style scoped>\n",
       "    .dataframe tbody tr th:only-of-type {\n",
       "        vertical-align: middle;\n",
       "    }\n",
       "\n",
       "    .dataframe tbody tr th {\n",
       "        vertical-align: top;\n",
       "    }\n",
       "\n",
       "    .dataframe thead th {\n",
       "        text-align: right;\n",
       "    }\n",
       "</style>\n",
       "<table border=\"1\" class=\"dataframe\">\n",
       "  <thead>\n",
       "    <tr style=\"text-align: right;\">\n",
       "      <th></th>\n",
       "      <th>usaf</th>\n",
       "      <th>wban</th>\n",
       "      <th>datetime</th>\n",
       "      <th>latitude</th>\n",
       "      <th>longitude</th>\n",
       "      <th>elevation</th>\n",
       "      <th>windAngle</th>\n",
       "      <th>windSpeed</th>\n",
       "      <th>temperature</th>\n",
       "      <th>seaLvlPressure</th>\n",
       "      <th>...</th>\n",
       "      <th>pastWeatherIndicator</th>\n",
       "      <th>precipTime</th>\n",
       "      <th>precipDepth</th>\n",
       "      <th>snowDepth</th>\n",
       "      <th>stationName</th>\n",
       "      <th>countryOrRegion</th>\n",
       "      <th>p_k</th>\n",
       "      <th>year</th>\n",
       "      <th>day</th>\n",
       "      <th>version</th>\n",
       "    </tr>\n",
       "  </thead>\n",
       "  <tbody>\n",
       "    <tr>\n",
       "      <th>0</th>\n",
       "      <td>724755</td>\n",
       "      <td>93129</td>\n",
       "      <td>2008-01-01 00:53:00</td>\n",
       "      <td>37.702</td>\n",
       "      <td>-113.097</td>\n",
       "      <td>1712.0</td>\n",
       "      <td>350.0</td>\n",
       "      <td>3.6</td>\n",
       "      <td>-8.3</td>\n",
       "      <td>1036.2</td>\n",
       "      <td>...</td>\n",
       "      <td>NaN</td>\n",
       "      <td>1.0</td>\n",
       "      <td>0.0</td>\n",
       "      <td>NaN</td>\n",
       "      <td>CEDAR CITY REGIONAL ARPT</td>\n",
       "      <td>US</td>\n",
       "      <td>724755-93129</td>\n",
       "      <td>2008</td>\n",
       "      <td>1</td>\n",
       "      <td>1.0</td>\n",
       "    </tr>\n",
       "    <tr>\n",
       "      <th>1</th>\n",
       "      <td>724755</td>\n",
       "      <td>93129</td>\n",
       "      <td>2008-01-01 01:53:00</td>\n",
       "      <td>37.702</td>\n",
       "      <td>-113.097</td>\n",
       "      <td>1712.0</td>\n",
       "      <td>340.0</td>\n",
       "      <td>4.1</td>\n",
       "      <td>-11.1</td>\n",
       "      <td>1037.3</td>\n",
       "      <td>...</td>\n",
       "      <td>NaN</td>\n",
       "      <td>1.0</td>\n",
       "      <td>0.0</td>\n",
       "      <td>NaN</td>\n",
       "      <td>CEDAR CITY REGIONAL ARPT</td>\n",
       "      <td>US</td>\n",
       "      <td>724755-93129</td>\n",
       "      <td>2008</td>\n",
       "      <td>1</td>\n",
       "      <td>1.0</td>\n",
       "    </tr>\n",
       "    <tr>\n",
       "      <th>2</th>\n",
       "      <td>724755</td>\n",
       "      <td>93129</td>\n",
       "      <td>2008-01-01 02:53:00</td>\n",
       "      <td>37.702</td>\n",
       "      <td>-113.097</td>\n",
       "      <td>1712.0</td>\n",
       "      <td>NaN</td>\n",
       "      <td>2.1</td>\n",
       "      <td>-11.7</td>\n",
       "      <td>1039.7</td>\n",
       "      <td>...</td>\n",
       "      <td>NaN</td>\n",
       "      <td>1.0</td>\n",
       "      <td>0.0</td>\n",
       "      <td>NaN</td>\n",
       "      <td>CEDAR CITY REGIONAL ARPT</td>\n",
       "      <td>US</td>\n",
       "      <td>724755-93129</td>\n",
       "      <td>2008</td>\n",
       "      <td>1</td>\n",
       "      <td>1.0</td>\n",
       "    </tr>\n",
       "    <tr>\n",
       "      <th>3</th>\n",
       "      <td>724755</td>\n",
       "      <td>93129</td>\n",
       "      <td>2008-01-01 03:53:00</td>\n",
       "      <td>37.702</td>\n",
       "      <td>-113.097</td>\n",
       "      <td>1712.0</td>\n",
       "      <td>70.0</td>\n",
       "      <td>1.5</td>\n",
       "      <td>-11.1</td>\n",
       "      <td>1040.3</td>\n",
       "      <td>...</td>\n",
       "      <td>NaN</td>\n",
       "      <td>1.0</td>\n",
       "      <td>0.0</td>\n",
       "      <td>NaN</td>\n",
       "      <td>CEDAR CITY REGIONAL ARPT</td>\n",
       "      <td>US</td>\n",
       "      <td>724755-93129</td>\n",
       "      <td>2008</td>\n",
       "      <td>1</td>\n",
       "      <td>1.0</td>\n",
       "    </tr>\n",
       "    <tr>\n",
       "      <th>4</th>\n",
       "      <td>724755</td>\n",
       "      <td>93129</td>\n",
       "      <td>2008-01-01 04:53:00</td>\n",
       "      <td>37.702</td>\n",
       "      <td>-113.097</td>\n",
       "      <td>1712.0</td>\n",
       "      <td>NaN</td>\n",
       "      <td>1.5</td>\n",
       "      <td>-13.9</td>\n",
       "      <td>1040.4</td>\n",
       "      <td>...</td>\n",
       "      <td>NaN</td>\n",
       "      <td>1.0</td>\n",
       "      <td>0.0</td>\n",
       "      <td>NaN</td>\n",
       "      <td>CEDAR CITY REGIONAL ARPT</td>\n",
       "      <td>US</td>\n",
       "      <td>724755-93129</td>\n",
       "      <td>2008</td>\n",
       "      <td>1</td>\n",
       "      <td>1.0</td>\n",
       "    </tr>\n",
       "  </tbody>\n",
       "</table>\n",
       "<p>5 rows × 22 columns</p>\n",
       "</div>"
      ],
      "text/plain": [
       "     usaf   wban            datetime  latitude  longitude  elevation  \\\n",
       "0  724755  93129 2008-01-01 00:53:00    37.702   -113.097     1712.0   \n",
       "1  724755  93129 2008-01-01 01:53:00    37.702   -113.097     1712.0   \n",
       "2  724755  93129 2008-01-01 02:53:00    37.702   -113.097     1712.0   \n",
       "3  724755  93129 2008-01-01 03:53:00    37.702   -113.097     1712.0   \n",
       "4  724755  93129 2008-01-01 04:53:00    37.702   -113.097     1712.0   \n",
       "\n",
       "   windAngle  windSpeed  temperature  seaLvlPressure  ...  \\\n",
       "0      350.0        3.6         -8.3          1036.2  ...   \n",
       "1      340.0        4.1        -11.1          1037.3  ...   \n",
       "2        NaN        2.1        -11.7          1039.7  ...   \n",
       "3       70.0        1.5        -11.1          1040.3  ...   \n",
       "4        NaN        1.5        -13.9          1040.4  ...   \n",
       "\n",
       "  pastWeatherIndicator  precipTime  precipDepth  snowDepth  \\\n",
       "0                  NaN         1.0          0.0        NaN   \n",
       "1                  NaN         1.0          0.0        NaN   \n",
       "2                  NaN         1.0          0.0        NaN   \n",
       "3                  NaN         1.0          0.0        NaN   \n",
       "4                  NaN         1.0          0.0        NaN   \n",
       "\n",
       "                stationName  countryOrRegion           p_k  year day  version  \n",
       "0  CEDAR CITY REGIONAL ARPT               US  724755-93129  2008   1      1.0  \n",
       "1  CEDAR CITY REGIONAL ARPT               US  724755-93129  2008   1      1.0  \n",
       "2  CEDAR CITY REGIONAL ARPT               US  724755-93129  2008   1      1.0  \n",
       "3  CEDAR CITY REGIONAL ARPT               US  724755-93129  2008   1      1.0  \n",
       "4  CEDAR CITY REGIONAL ARPT               US  724755-93129  2008   1      1.0  \n",
       "\n",
       "[5 rows x 22 columns]"
      ]
     },
     "execution_count": 27,
     "metadata": {},
     "output_type": "execute_result"
    }
   ],
   "source": [
    "df = dask.delayed(dd.read_parquet)(files, engine='pyarrow', storage_options=STORAGE_OPTIONS).compute()\n",
    "%time df.head()"
   ]
  },
  {
   "cell_type": "code",
   "execution_count": 32,
   "metadata": {},
   "outputs": [],
   "source": [
    "import dask_cudf"
   ]
  },
  {
   "cell_type": "code",
   "execution_count": 33,
   "metadata": {},
   "outputs": [],
   "source": [
    "df = dask_cudf.from_dask_dataframe(df)"
   ]
  },
  {
   "cell_type": "code",
   "execution_count": null,
   "metadata": {},
   "outputs": [],
   "source": [
    "#df = df.set_index(dd.to_datetime(df.datetime).dt.floor('d'), sorted=False)\n",
    "#df = df.persist() \n",
    "%time len(df)"
   ]
  },
  {
   "cell_type": "code",
   "execution_count": null,
   "metadata": {},
   "outputs": [],
   "source": [
    "%time len(df)"
   ]
  },
  {
   "cell_type": "code",
   "execution_count": null,
   "metadata": {},
   "outputs": [],
   "source": [
    "%time df.describe().compute()"
   ]
  },
  {
   "cell_type": "code",
   "execution_count": null,
   "metadata": {},
   "outputs": [],
   "source": [
    "%time bites = df.memory_usage(index=True, deep=True).sum().compute()\n",
    "print(f'Dataframe is: {round(bites/1e9, 2)}GB')"
   ]
  },
  {
   "cell_type": "code",
   "execution_count": null,
   "metadata": {},
   "outputs": [],
   "source": [
    "%time means = df.groupby(df.index).mean().compute()\n",
    "means.head()"
   ]
  },
  {
   "cell_type": "code",
   "execution_count": null,
   "metadata": {},
   "outputs": [],
   "source": [
    "for col in list(means.columns):\n",
    "    fig = plt.figure(figsize=(16, 8))\n",
    "    #plt.style.use('dark_background')\n",
    "    means[col].plot(color='b')\n",
    "    plt.title('Average of {}'.format(col))\n",
    "    plt.xlim([datetime(2008, 1, 1), datetime(2018, 12, 31)])\n",
    "    plt.grid()\n",
    "    \n",
    "    # optionally, log the image to the run\n",
    "    run.log_image(f'mean_{col}', plot=plt)"
   ]
  },
  {
   "cell_type": "markdown",
   "metadata": {},
   "source": [
    "You can see the images logged to the run in the studio."
   ]
  },
  {
   "cell_type": "code",
   "execution_count": null,
   "metadata": {},
   "outputs": [],
   "source": [
    "run"
   ]
  },
  {
   "cell_type": "markdown",
   "metadata": {},
   "source": [
    "## Prepare data"
   ]
  },
  {
   "cell_type": "code",
   "execution_count": null,
   "metadata": {},
   "outputs": [],
   "source": [
    "## insert any Pandas-like Dask data prep code \n",
    "df['temperature'] = df['temperature']*(9/5)+32 # 'Merica"
   ]
  },
  {
   "cell_type": "markdown",
   "metadata": {},
   "source": [
    "## Write data\n",
    "\n",
    "**Important:** you will have not access to write to this account, get your own storage account! \n",
    "\n",
    "See the [API documentation for dask.dataframe.to_parquet](https://docs.dask.org/en/latest/dataframe-api.html#dask.dataframe.to_parquet) for additional settings. "
   ]
  },
  {
   "cell_type": "code",
   "execution_count": null,
   "metadata": {},
   "outputs": [],
   "source": [
    "df = df.repartition(npartitions=df.npartitions*10)\n",
    "%time dask.delayed(df.to_parquet)(f'abfs://outputs/noaa/isd_out.parquet', compression='lz4', storage_options=STORAGE_OPTIONS).compute()"
   ]
  },
  {
   "cell_type": "markdown",
   "metadata": {},
   "source": [
    "![Write gif](media/write.gif)"
   ]
  },
  {
   "cell_type": "markdown",
   "metadata": {},
   "source": [
    "## Train XGBoost model"
   ]
  },
  {
   "cell_type": "code",
   "execution_count": null,
   "metadata": {},
   "outputs": [],
   "source": [
    "df = dask.delayed(dd.read_parquet)(files, engine='pyarrow', storage_options=STORAGE_OPTIONS).compute()"
   ]
  },
  {
   "cell_type": "code",
   "execution_count": null,
   "metadata": {},
   "outputs": [],
   "source": [
    "files = []\n",
    "for file in fs.glob('noaa/isd/year=*/month=*'): # see https://github.com/dask/adlfs/issues/34\n",
    "    files += fs.ls(f'{file}/')\n",
    "files = [f'{protocol}://{container}/{file}' for file in files if '2019' in file] \n",
    "\n",
    "df2019 = dask.delayed(dd.read_parquet)(files, engine='pyarrow', storage_options=STORAGE_OPTIONS).compute() "
   ]
  },
  {
   "cell_type": "code",
   "execution_count": null,
   "metadata": {},
   "outputs": [],
   "source": [
    "# begin data prep\n",
    "df = df.fillna(0) \n",
    "df2019 = df2019.fillna(0) "
   ]
  },
  {
   "cell_type": "code",
   "execution_count": null,
   "metadata": {},
   "outputs": [],
   "source": [
    "df['month'] = df['datetime'].dt.month\n",
    "df2019['month'] = df2019['datetime'].dt.month"
   ]
  },
  {
   "cell_type": "code",
   "execution_count": null,
   "metadata": {},
   "outputs": [],
   "source": [
    "cols = list(df.columns)\n",
    "cols = [col for col in cols if df.dtypes[col] != 'object' and col not in ['version', 'datetime']]\n",
    "cols"
   ]
  },
  {
   "cell_type": "code",
   "execution_count": null,
   "metadata": {},
   "outputs": [],
   "source": [
    "X = df[[col for col in cols if col not in ['temperature']]].persist()\n",
    "y = df.temperature.persist()\n",
    "# end data prep - persist intelligently per https://docs.dask.org/en/latest/best-practices.html"
   ]
  },
  {
   "cell_type": "code",
   "execution_count": null,
   "metadata": {},
   "outputs": [],
   "source": [
    "xgb = XGBRegressor(n_estimators=16)\n",
    "%time xgb.fit(X, y)"
   ]
  },
  {
   "cell_type": "code",
   "execution_count": null,
   "metadata": {},
   "outputs": [],
   "source": [
    "%time y_pred = xgb.predict(X).compute()"
   ]
  },
  {
   "cell_type": "code",
   "execution_count": null,
   "metadata": {},
   "outputs": [],
   "source": [
    "rmse = (((y.to_dask_array().compute()-y_pred)**2).mean())**.5 # runs locally, distribute (?)\n",
    "print(f'Training RMSE: {round(rmse, 3)}')"
   ]
  },
  {
   "cell_type": "markdown",
   "metadata": {},
   "source": [
    "## Evaluate model"
   ]
  },
  {
   "cell_type": "code",
   "execution_count": null,
   "metadata": {},
   "outputs": [],
   "source": [
    "X_test = df2019[[col for col in cols if col not in ['temperature']]].persist()\n",
    "y_test = df2019.temperature.persist()"
   ]
  },
  {
   "cell_type": "code",
   "execution_count": null,
   "metadata": {},
   "outputs": [],
   "source": [
    "%time y_pred = xgb.predict(X_test).compute()"
   ]
  },
  {
   "cell_type": "code",
   "execution_count": null,
   "metadata": {},
   "outputs": [],
   "source": [
    "rmse = (((y_test.to_dask_array().compute()-y_pred)**2).mean())**.5 # runs locally, distribute (?)\n",
    "print(f'Test RMSE: {round(rmse, 3)}')"
   ]
  },
  {
   "cell_type": "markdown",
   "metadata": {},
   "source": [
    "## Register model"
   ]
  },
  {
   "cell_type": "code",
   "execution_count": null,
   "metadata": {},
   "outputs": [],
   "source": [
    "model_path = 'xgboost_noaa_isd.joblib.dat'\n",
    "joblib.dump(xgb, model_path)\n",
    "xgb = joblib.load(model_path)"
   ]
  },
  {
   "cell_type": "code",
   "execution_count": null,
   "metadata": {},
   "outputs": [],
   "source": [
    "model = Model.register(ws, model_path, 'xgboost-noaa-isd', \n",
    "                       description='Dask XGBoost NOAA ISD temperature predictor',\n",
    "                       model_framework='XGBoost')"
   ]
  },
  {
   "cell_type": "markdown",
   "metadata": {},
   "source": [
    "## End the run\n",
    "\n",
    "Cluster will return to 0 nodes."
   ]
  },
  {
   "cell_type": "code",
   "execution_count": null,
   "metadata": {},
   "outputs": [],
   "source": [
    "c.close()\n",
    "run.cancel()"
   ]
  },
  {
   "cell_type": "code",
   "execution_count": null,
   "metadata": {},
   "outputs": [],
   "source": [
    "t_end = time.time()\n",
    "print(f'Total run time: {round((t_end-t_start)/60, 2)} minutes')"
   ]
  }
 ],
 "metadata": {
  "kernelspec": {
   "display_name": "Python 3",
   "language": "python",
   "name": "python3"
  },
  "language_info": {
   "codemirror_mode": {
    "name": "ipython",
    "version": 3
   },
   "file_extension": ".py",
   "mimetype": "text/x-python",
   "name": "python",
   "nbconvert_exporter": "python",
   "pygments_lexer": "ipython3",
   "version": "3.6.7"
  }
 },
 "nbformat": 4,
 "nbformat_minor": 4
}
